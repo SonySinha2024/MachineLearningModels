{
 "cells": [
  {
   "cell_type": "markdown",
   "id": "112743f2",
   "metadata": {},
   "source": [
    "Predicting house prices using multiple linear regression"
   ]
  },
  {
   "cell_type": "code",
   "execution_count": 15,
   "id": "fea2ec69",
   "metadata": {},
   "outputs": [],
   "source": [
    "#importing the required packages\n",
    "import pandas as pd\n",
    "from sklearn import linear_model"
   ]
  },
  {
   "cell_type": "code",
   "execution_count": 28,
   "id": "8d7253de",
   "metadata": {},
   "outputs": [
    {
     "name": "stdout",
     "output_type": "stream",
     "text": [
      "   Number  Carpet_area  Roomcount  Building age  Price\n",
      "0       1          678          2             3  60000\n",
      "1       2          436          2             5  33000\n",
      "2       3          345          1             5  38000\n",
      "3       4          866          3             3  86000\n",
      "4       5          765          3             2  64000\n",
      "5       6          545          2             1  51000\n",
      "6       7          795          2             4  78000\n"
     ]
    }
   ],
   "source": [
    "#reading file\n",
    "df = pd.read_excel('linear_regression.xlsx')\n",
    "print(df)"
   ]
  },
  {
   "cell_type": "code",
   "execution_count": 21,
   "id": "175b71a0",
   "metadata": {},
   "outputs": [
    {
     "data": {
      "text/plain": [
       "Number          int64\n",
       "Area            int64\n",
       "Roomcount       int64\n",
       "Building age    int64\n",
       "Price           int64\n",
       "dtype: object"
      ]
     },
     "execution_count": 21,
     "metadata": {},
     "output_type": "execute_result"
    }
   ],
   "source": [
    "#checking datatypes\n",
    "df.dtypes"
   ]
  },
  {
   "cell_type": "code",
   "execution_count": 29,
   "id": "a8d7876c",
   "metadata": {},
   "outputs": [
    {
     "data": {
      "text/plain": [
       "0    678\n",
       "1    436\n",
       "2    345\n",
       "3    866\n",
       "4    765\n",
       "5    545\n",
       "6    795\n",
       "Name: Carpet_area, dtype: int64"
      ]
     },
     "execution_count": 29,
     "metadata": {},
     "output_type": "execute_result"
    }
   ],
   "source": [
    "df['Carpet_area']"
   ]
  },
  {
   "cell_type": "code",
   "execution_count": 30,
   "id": "d0b05f61",
   "metadata": {},
   "outputs": [
    {
     "data": {
      "text/html": [
       "<div>\n",
       "<style scoped>\n",
       "    .dataframe tbody tr th:only-of-type {\n",
       "        vertical-align: middle;\n",
       "    }\n",
       "\n",
       "    .dataframe tbody tr th {\n",
       "        vertical-align: top;\n",
       "    }\n",
       "\n",
       "    .dataframe thead th {\n",
       "        text-align: right;\n",
       "    }\n",
       "</style>\n",
       "<table border=\"1\" class=\"dataframe\">\n",
       "  <thead>\n",
       "    <tr style=\"text-align: right;\">\n",
       "      <th></th>\n",
       "      <th>Carpet_area</th>\n",
       "      <th>Roomcount</th>\n",
       "      <th>Building age</th>\n",
       "    </tr>\n",
       "  </thead>\n",
       "  <tbody>\n",
       "    <tr>\n",
       "      <th>0</th>\n",
       "      <td>678</td>\n",
       "      <td>2</td>\n",
       "      <td>3</td>\n",
       "    </tr>\n",
       "    <tr>\n",
       "      <th>1</th>\n",
       "      <td>436</td>\n",
       "      <td>2</td>\n",
       "      <td>5</td>\n",
       "    </tr>\n",
       "    <tr>\n",
       "      <th>2</th>\n",
       "      <td>345</td>\n",
       "      <td>1</td>\n",
       "      <td>5</td>\n",
       "    </tr>\n",
       "    <tr>\n",
       "      <th>3</th>\n",
       "      <td>866</td>\n",
       "      <td>3</td>\n",
       "      <td>3</td>\n",
       "    </tr>\n",
       "    <tr>\n",
       "      <th>4</th>\n",
       "      <td>765</td>\n",
       "      <td>3</td>\n",
       "      <td>2</td>\n",
       "    </tr>\n",
       "    <tr>\n",
       "      <th>5</th>\n",
       "      <td>545</td>\n",
       "      <td>2</td>\n",
       "      <td>1</td>\n",
       "    </tr>\n",
       "    <tr>\n",
       "      <th>6</th>\n",
       "      <td>795</td>\n",
       "      <td>2</td>\n",
       "      <td>4</td>\n",
       "    </tr>\n",
       "  </tbody>\n",
       "</table>\n",
       "</div>"
      ],
      "text/plain": [
       "   Carpet_area  Roomcount  Building age\n",
       "0          678          2             3\n",
       "1          436          2             5\n",
       "2          345          1             5\n",
       "3          866          3             3\n",
       "4          765          3             2\n",
       "5          545          2             1\n",
       "6          795          2             4"
      ]
     },
     "execution_count": 30,
     "metadata": {},
     "output_type": "execute_result"
    }
   ],
   "source": [
    "df[['Carpet_area','Roomcount','Building age']]"
   ]
  },
  {
   "cell_type": "code",
   "execution_count": 12,
   "id": "1ca9d679",
   "metadata": {},
   "outputs": [
    {
     "data": {
      "text/html": [
       "<div>\n",
       "<style scoped>\n",
       "    .dataframe tbody tr th:only-of-type {\n",
       "        vertical-align: middle;\n",
       "    }\n",
       "\n",
       "    .dataframe tbody tr th {\n",
       "        vertical-align: top;\n",
       "    }\n",
       "\n",
       "    .dataframe thead th {\n",
       "        text-align: right;\n",
       "    }\n",
       "</style>\n",
       "<table border=\"1\" class=\"dataframe\">\n",
       "  <thead>\n",
       "    <tr style=\"text-align: right;\">\n",
       "      <th></th>\n",
       "      <th>Price</th>\n",
       "    </tr>\n",
       "  </thead>\n",
       "  <tbody>\n",
       "    <tr>\n",
       "      <th>0</th>\n",
       "      <td>60000</td>\n",
       "    </tr>\n",
       "    <tr>\n",
       "      <th>1</th>\n",
       "      <td>43000</td>\n",
       "    </tr>\n",
       "    <tr>\n",
       "      <th>2</th>\n",
       "      <td>38000</td>\n",
       "    </tr>\n",
       "    <tr>\n",
       "      <th>3</th>\n",
       "      <td>86000</td>\n",
       "    </tr>\n",
       "    <tr>\n",
       "      <th>4</th>\n",
       "      <td>74000</td>\n",
       "    </tr>\n",
       "    <tr>\n",
       "      <th>5</th>\n",
       "      <td>51000</td>\n",
       "    </tr>\n",
       "    <tr>\n",
       "      <th>6</th>\n",
       "      <td>78000</td>\n",
       "    </tr>\n",
       "  </tbody>\n",
       "</table>\n",
       "</div>"
      ],
      "text/plain": [
       "   Price\n",
       "0  60000\n",
       "1  43000\n",
       "2  38000\n",
       "3  86000\n",
       "4  74000\n",
       "5  51000\n",
       "6  78000"
      ]
     },
     "execution_count": 12,
     "metadata": {},
     "output_type": "execute_result"
    }
   ],
   "source": [
    "df[['Price']]"
   ]
  },
  {
   "cell_type": "code",
   "execution_count": 31,
   "id": "33ad2595",
   "metadata": {},
   "outputs": [
    {
     "data": {
      "text/plain": [
       "LinearRegression()"
      ]
     },
     "execution_count": 31,
     "metadata": {},
     "output_type": "execute_result"
    }
   ],
   "source": [
    "# define linear regression model\n",
    "reg =linear_model.LinearRegression()\n",
    "reg.fit(df[['Carpet_area','Roomcount','Building age']],df['Price'])"
   ]
  },
  {
   "cell_type": "code",
   "execution_count": 32,
   "id": "b2bbf185",
   "metadata": {},
   "outputs": [
    {
     "name": "stderr",
     "output_type": "stream",
     "text": [
      "C:\\ProgramData\\Anaconda3\\lib\\site-packages\\sklearn\\base.py:450: UserWarning: X does not have valid feature names, but LinearRegression was fitted with feature names\n",
      "  warnings.warn(\n"
     ]
    },
    {
     "data": {
      "text/plain": [
       "array([65353.72255153, 35936.9537067 , 79104.14595954, 66859.26260295,\n",
       "       79541.18376606])"
      ]
     },
     "execution_count": 32,
     "metadata": {},
     "output_type": "execute_result"
    }
   ],
   "source": [
    "# predicticting of estimated price\n",
    "reg.predict([[678,2,3],[436,2,5],[866,3,3],[765,3,2],[795,2,4]])"
   ]
  },
  {
   "cell_type": "code",
   "execution_count": 33,
   "id": "fec1269c",
   "metadata": {},
   "outputs": [
    {
     "data": {
      "text/plain": [
       "array([  121.41111612, -9074.86642285,   -17.6393717 ])"
      ]
     },
     "execution_count": 33,
     "metadata": {},
     "output_type": "execute_result"
    }
   ],
   "source": [
    "# liner regression coefficient\n",
    "reg.coef_"
   ]
  },
  {
   "cell_type": "code",
   "execution_count": 34,
   "id": "5461f956",
   "metadata": {},
   "outputs": [
    {
     "data": {
      "text/plain": [
       "1239.6367818614672"
      ]
     },
     "execution_count": 34,
     "metadata": {},
     "output_type": "execute_result"
    }
   ],
   "source": [
    "# intercept of linear regression\n",
    "reg.intercept_"
   ]
  },
  {
   "cell_type": "code",
   "execution_count": 35,
   "id": "0d2b7bd2",
   "metadata": {},
   "outputs": [
    {
     "data": {
      "text/plain": [
       "65406.64066661356"
      ]
     },
     "execution_count": 35,
     "metadata": {},
     "output_type": "execute_result"
    }
   ],
   "source": [
    "#multiple linear regression formula\n",
    "#y = a+ b1x1 +b2x2\n",
    "a=reg.intercept_\n",
    "b1= reg.coef_[0]\n",
    "b2= reg.coef_[1]\n",
    "b3=reg.coef_[2]\n",
    "x1= 678\n",
    "x2= 2\n",
    "x3= 3\n",
    "y= a + b1*x1 + b2*x2\n",
    "y"
   ]
  },
  {
   "cell_type": "code",
   "execution_count": null,
   "id": "3c358d8e",
   "metadata": {},
   "outputs": [],
   "source": []
  }
 ],
 "metadata": {
  "kernelspec": {
   "display_name": "Python 3 (ipykernel)",
   "language": "python",
   "name": "python3"
  },
  "language_info": {
   "codemirror_mode": {
    "name": "ipython",
    "version": 3
   },
   "file_extension": ".py",
   "mimetype": "text/x-python",
   "name": "python",
   "nbconvert_exporter": "python",
   "pygments_lexer": "ipython3",
   "version": "3.9.12"
  }
 },
 "nbformat": 4,
 "nbformat_minor": 5
}
