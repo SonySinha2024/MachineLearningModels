{
 "cells": [
  {
   "cell_type": "markdown",
   "id": "ba8fe2fc",
   "metadata": {},
   "source": [
    "To build a machine learning model for prediction of salary values for different experience level of employees\n",
    "y = a +b1x + b2x^2 + b3x^3 +b4x^4 ............+ bnx^n"
   ]
  },
  {
   "cell_type": "code",
   "execution_count": 1,
   "id": "d3658696",
   "metadata": {},
   "outputs": [],
   "source": [
    "# importing the required packages\n",
    "import pandas as pd\n",
    "import matplotlib.pyplot as plt\n",
    "from sklearn.linear_model import LinearRegression\n",
    "from sklearn.preprocessing import PolynomialFeatures"
   ]
  },
  {
   "cell_type": "code",
   "execution_count": 2,
   "id": "0260f1bf",
   "metadata": {},
   "outputs": [],
   "source": [
    "#reading excel file \n",
    "df =pd.read_excel('expsalary.xlsx')"
   ]
  },
  {
   "cell_type": "code",
   "execution_count": 3,
   "id": "d91e9410",
   "metadata": {},
   "outputs": [
    {
     "data": {
      "text/html": [
       "<div>\n",
       "<style scoped>\n",
       "    .dataframe tbody tr th:only-of-type {\n",
       "        vertical-align: middle;\n",
       "    }\n",
       "\n",
       "    .dataframe tbody tr th {\n",
       "        vertical-align: top;\n",
       "    }\n",
       "\n",
       "    .dataframe thead th {\n",
       "        text-align: right;\n",
       "    }\n",
       "</style>\n",
       "<table border=\"1\" class=\"dataframe\">\n",
       "  <thead>\n",
       "    <tr style=\"text-align: right;\">\n",
       "      <th></th>\n",
       "      <th>ExperienceLevel</th>\n",
       "      <th>Salary</th>\n",
       "    </tr>\n",
       "  </thead>\n",
       "  <tbody>\n",
       "    <tr>\n",
       "      <th>0</th>\n",
       "      <td>1</td>\n",
       "      <td>200000</td>\n",
       "    </tr>\n",
       "    <tr>\n",
       "      <th>1</th>\n",
       "      <td>2</td>\n",
       "      <td>240000</td>\n",
       "    </tr>\n",
       "    <tr>\n",
       "      <th>2</th>\n",
       "      <td>3</td>\n",
       "      <td>290000</td>\n",
       "    </tr>\n",
       "    <tr>\n",
       "      <th>3</th>\n",
       "      <td>4</td>\n",
       "      <td>330000</td>\n",
       "    </tr>\n",
       "    <tr>\n",
       "      <th>4</th>\n",
       "      <td>5</td>\n",
       "      <td>380000</td>\n",
       "    </tr>\n",
       "    <tr>\n",
       "      <th>5</th>\n",
       "      <td>6</td>\n",
       "      <td>420000</td>\n",
       "    </tr>\n",
       "    <tr>\n",
       "      <th>6</th>\n",
       "      <td>7</td>\n",
       "      <td>480000</td>\n",
       "    </tr>\n",
       "    <tr>\n",
       "      <th>7</th>\n",
       "      <td>8</td>\n",
       "      <td>540000</td>\n",
       "    </tr>\n",
       "    <tr>\n",
       "      <th>8</th>\n",
       "      <td>9</td>\n",
       "      <td>615000</td>\n",
       "    </tr>\n",
       "    <tr>\n",
       "      <th>9</th>\n",
       "      <td>10</td>\n",
       "      <td>695000</td>\n",
       "    </tr>\n",
       "    <tr>\n",
       "      <th>10</th>\n",
       "      <td>11</td>\n",
       "      <td>810000</td>\n",
       "    </tr>\n",
       "    <tr>\n",
       "      <th>11</th>\n",
       "      <td>12</td>\n",
       "      <td>950000</td>\n",
       "    </tr>\n",
       "    <tr>\n",
       "      <th>12</th>\n",
       "      <td>13</td>\n",
       "      <td>1110000</td>\n",
       "    </tr>\n",
       "    <tr>\n",
       "      <th>13</th>\n",
       "      <td>14</td>\n",
       "      <td>1350000</td>\n",
       "    </tr>\n",
       "    <tr>\n",
       "      <th>14</th>\n",
       "      <td>15</td>\n",
       "      <td>1550000</td>\n",
       "    </tr>\n",
       "  </tbody>\n",
       "</table>\n",
       "</div>"
      ],
      "text/plain": [
       "    ExperienceLevel   Salary\n",
       "0                 1   200000\n",
       "1                 2   240000\n",
       "2                 3   290000\n",
       "3                 4   330000\n",
       "4                 5   380000\n",
       "5                 6   420000\n",
       "6                 7   480000\n",
       "7                 8   540000\n",
       "8                 9   615000\n",
       "9                10   695000\n",
       "10               11   810000\n",
       "11               12   950000\n",
       "12               13  1110000\n",
       "13               14  1350000\n",
       "14               15  1550000"
      ]
     },
     "execution_count": 3,
     "metadata": {},
     "output_type": "execute_result"
    }
   ],
   "source": [
    "#displaying the coulums data\n",
    "df"
   ]
  },
  {
   "cell_type": "code",
   "execution_count": 4,
   "id": "34981995",
   "metadata": {},
   "outputs": [
    {
     "data": {
      "image/png": "[encoded data removed]",
      "text/plain": [
       "<Figure size 432x288 with 1 Axes>"
      ]
     },
     "metadata": {
      "needs_background": "light"
     },
     "output_type": "display_data"
    }
   ],
   "source": [
    "#plotting scatter plot\n",
    "plt.scatter(df['ExperienceLevel'],df['Salary'])\n",
    "plt.xlabel('ExperienceLevel')\n",
    "plt.ylabel('Salary')\n",
    "plt.savefig('expsalgraph1', dpi=200)\n",
    "plt.show()"
   ]
  },
  {
   "cell_type": "code",
   "execution_count": 5,
   "id": "d637c5ea",
   "metadata": {},
   "outputs": [
    {
     "data": {
      "image/png": "[encoded data removed]",
      "text/plain": [
       "<Figure size 432x288 with 1 Axes>"
      ]
     },
     "metadata": {
      "needs_background": "light"
     },
     "output_type": "display_data"
    }
   ],
   "source": [
    "# applying linear regression , we get incorrect model graph\n",
    "reg = LinearRegression()\n",
    "reg.fit(df[['ExperienceLevel']], df['Salary'])\n",
    "plt.xlabel('ExperienceLevel')\n",
    "plt.ylabel('Salary')\n",
    "plt.scatter(df['ExperienceLevel'],df['Salary'])\n",
    "xaxis=df['ExperienceLevel']\n",
    "yaxis =reg.predict(df[['ExperienceLevel']])\n",
    "plt.plot(xaxis,yaxis,color= 'red', label='Linear Regression')\n",
    "plt.legend()\n",
    "plt.show()"
   ]
  },
  {
   "cell_type": "markdown",
   "id": "b5082477",
   "metadata": {},
   "source": [
    "Above model prediction is not correct, using linear regression , so we use polynomial regression"
   ]
  },
  {
   "cell_type": "code",
   "execution_count": null,
   "id": "fc7d3475",
   "metadata": {},
   "outputs": [],
   "source": [
    "#for degree = 2, polynomial function is y = a +b1x + b2x^2"
   ]
  },
  {
   "cell_type": "code",
   "execution_count": 6,
   "id": "d17a7257",
   "metadata": {},
   "outputs": [],
   "source": [
    "#calling polynomialfeature function to create polynomial function and specifying degree\n",
    "polynomial_regression= PolynomialFeatures(degree=2) \n",
    "x_polynomial =polynomial_regression.fit_transform(df[['ExperienceLevel']])"
   ]
  },
  {
   "cell_type": "code",
   "execution_count": 7,
   "id": "cebc0658",
   "metadata": {},
   "outputs": [
    {
     "data": {
      "text/plain": [
       "LinearRegression()"
      ]
     },
     "execution_count": 7,
     "metadata": {},
     "output_type": "execute_result"
    }
   ],
   "source": [
    "# we fit the x polynomial and y axes by creating regression model object and calling its fit method\n",
    "#training our regression model with data\n",
    "reg=LinearRegression()\n",
    "reg.fit(x_polynomial,df['Salary'])"
   ]
  },
  {
   "cell_type": "code",
   "execution_count": 8,
   "id": "a15f9117",
   "metadata": {},
   "outputs": [
    {
     "data": {
      "text/plain": [
       "<matplotlib.collections.PathCollection at 0x1c04d8ae700>"
      ]
     },
     "execution_count": 8,
     "metadata": {},
     "output_type": "execute_result"
    },
    {
     "data": {
      "image/png": "[encoded data removed]",
      "text/plain": [
       "<Figure size 432x288 with 1 Axes>"
      ]
     },
     "metadata": {
      "needs_background": "light"
     },
     "output_type": "display_data"
    }
   ],
   "source": [
    "#Model generates a result graph \n",
    "y_head =reg.predict(x_polynomial)\n",
    "plt.plot(df['ExperienceLevel'], y_head , color='red', label='Polynomial Expression')\n",
    "plt.legend() \n",
    "#scatter plot to check if its fits polynoomial expression\n",
    "plt.scatter(df[['ExperienceLevel']],df[['Salary']])"
   ]
  },
  {
   "cell_type": "code",
   "execution_count": 9,
   "id": "ed087fbd",
   "metadata": {},
   "outputs": [],
   "source": [
    "#for degree = 3, polynomial function is y = a +b1x + b2x^2 +b3x^3"
   ]
  },
  {
   "cell_type": "code",
   "execution_count": 10,
   "id": "4aac54cb",
   "metadata": {},
   "outputs": [
    {
     "data": {
      "text/plain": [
       "<matplotlib.collections.PathCollection at 0x1c04d924eb0>"
      ]
     },
     "execution_count": 10,
     "metadata": {},
     "output_type": "execute_result"
    },
    {
     "data": {
      "image/png": "[encoded data removed]",
      "text/plain": [
       "<Figure size 432x288 with 1 Axes>"
      ]
     },
     "metadata": {
      "needs_background": "light"
     },
     "output_type": "display_data"
    }
   ],
   "source": [
    "#calling polynomialfeature function to create polynomial function and specifying degree\n",
    "polynomial_regression= PolynomialFeatures(degree=3) \n",
    "x_polynomial =polynomial_regression.fit_transform(df[['ExperienceLevel']])\n",
    "# we fit the x polynomial and y axes by creating regression model object and calling its fit method\n",
    "#training our regression model with data\n",
    "reg=LinearRegression()\n",
    "reg.fit(x_polynomial,df['Salary'])\n",
    "#Model generates a result graph \n",
    "y_head =reg.predict(x_polynomial)\n",
    "plt.plot(df['ExperienceLevel'], y_head , color='red', label='Polynomial Expression')\n",
    "plt.legend() \n",
    "#scatter plot to check if its fits polynoomial expression\n",
    "plt.scatter(df[['ExperienceLevel']],df[['Salary']])"
   ]
  },
  {
   "cell_type": "code",
   "execution_count": 11,
   "id": "f2f4dc0d",
   "metadata": {},
   "outputs": [
    {
     "data": {
      "text/plain": [
       "array([271040.30650722])"
      ]
     },
     "execution_count": 11,
     "metadata": {},
     "output_type": "execute_result"
    }
   ],
   "source": [
    "# Calculate salary of employee with experience of 2.5 level\n",
    "x_polynomial1 = polynomial_regression.fit_transform([[2.5]])\n",
    "reg.predict(x_polynomial1)"
   ]
  },
  {
   "cell_type": "code",
   "execution_count": 12,
   "id": "7a5b57ea",
   "metadata": {},
   "outputs": [
    {
     "data": {
      "text/plain": [
       "array([398666.244703])"
      ]
     },
     "execution_count": 12,
     "metadata": {},
     "output_type": "execute_result"
    }
   ],
   "source": [
    "# Calculate salary of employee with experience of 5.5 level\n",
    "x_polynomial2 = polynomial_regression.fit_transform([[5.5]])\n",
    "reg.predict(x_polynomial2)"
   ]
  },
  {
   "cell_type": "code",
   "execution_count": null,
   "id": "0cd64c2f",
   "metadata": {},
   "outputs": [],
   "source": [
    "#for degree = 5, polynomial function is y = a +b1x + b2x^2 +b3x^3 +b2x^2 +b5x^2"
   ]
  },
  {
   "cell_type": "code",
   "execution_count": 13,
   "id": "37136d18",
   "metadata": {},
   "outputs": [
    {
     "data": {
      "text/plain": [
       "<matplotlib.collections.PathCollection at 0x1c04d99dee0>"
      ]
     },
     "execution_count": 13,
     "metadata": {},
     "output_type": "execute_result"
    },
    {
     "data": {
      "image/png": "[encoded data removed]",
      "text/plain": [
       "<Figure size 432x288 with 1 Axes>"
      ]
     },
     "metadata": {
      "needs_background": "light"
     },
     "output_type": "display_data"
    }
   ],
   "source": [
    "#calling polynomialfeature function to create polynomial function and specifying degree\n",
    "polynomial_regression= PolynomialFeatures(degree=5) \n",
    "x_polynomial =polynomial_regression.fit_transform(df[['ExperienceLevel']])\n",
    "# we fit the x polynomial and y axes by creating regression model object and calling its fit method\n",
    "#training our regression model with data\n",
    "reg=LinearRegression()\n",
    "reg.fit(x_polynomial,df['Salary'])\n",
    "#Model generates a result graph \n",
    "y_head =reg.predict(x_polynomial)\n",
    "plt.plot(df['ExperienceLevel'], y_head , color='red', label='Polynomial Expression')\n",
    "plt.legend() \n",
    "#scatter plot to check if its fits polynoomial expression\n",
    "plt.scatter(df[['ExperienceLevel']],df[['Salary']])"
   ]
  },
  {
   "cell_type": "code",
   "execution_count": 14,
   "id": "aa808723",
   "metadata": {},
   "outputs": [],
   "source": [
    "#for degree = 8, polynomial function is y = a +b1x + b2x^2 +b3x^3 +b4x^2 +b5x^2 +b6x^2 + b7x^2 + b8x^2"
   ]
  },
  {
   "cell_type": "code",
   "execution_count": 15,
   "id": "196d29f6",
   "metadata": {},
   "outputs": [
    {
     "data": {
      "text/plain": [
       "<matplotlib.collections.PathCollection at 0x1c04cd636d0>"
      ]
     },
     "execution_count": 15,
     "metadata": {},
     "output_type": "execute_result"
    },
    {
     "data": {
      "image/png": "[encoded data removed]",
      "text/plain": [
       "<Figure size 432x288 with 1 Axes>"
      ]
     },
     "metadata": {
      "needs_background": "light"
     },
     "output_type": "display_data"
    }
   ],
   "source": [
    "#calling polynomialfeature function to create polynomial function and specifying degree\n",
    "polynomial_regression= PolynomialFeatures(degree=8) \n",
    "x_polynomial =polynomial_regression.fit_transform(df[['ExperienceLevel']])\n",
    "# we fit the x polynomial and y axes by creating regression model object and calling its fit method\n",
    "#training our regression model with data\n",
    "reg=LinearRegression()\n",
    "reg.fit(x_polynomial,df['Salary'])\n",
    "#Model generates a result graph \n",
    "y_head =reg.predict(x_polynomial)\n",
    "plt.plot(df['ExperienceLevel'], y_head , color='red', label='Polynomial Expression')\n",
    "plt.legend() \n",
    "#scatter plot to check if its fits polynoomial expression\n",
    "plt.scatter(df[['ExperienceLevel']],df[['Salary']])"
   ]
  },
  {
   "cell_type": "code",
   "execution_count": 16,
   "id": "42033a82",
   "metadata": {},
   "outputs": [
    {
     "data": {
      "text/plain": [
       "array([400868.06850532])"
      ]
     },
     "execution_count": 16,
     "metadata": {},
     "output_type": "execute_result"
    }
   ],
   "source": [
    "# Calculate salary of employee with experience of 5.5 level\n",
    "x_polynomial3 = polynomial_regression.fit_transform([[5.5]])\n",
    "reg.predict(x_polynomial3)"
   ]
  },
  {
   "cell_type": "code",
   "execution_count": null,
   "id": "d568c51c",
   "metadata": {},
   "outputs": [],
   "source": []
  }
 ],
 "metadata": {
  "kernelspec": {
   "display_name": "Python 3 (ipykernel)",
   "language": "python",
   "name": "python3"
  },
  "language_info": {
   "codemirror_mode": {
    "name": "ipython",
    "version": 3
   },
   "file_extension": ".py",
   "mimetype": "text/x-python",
   "name": "python",
   "nbconvert_exporter": "python",
   "pygments_lexer": "ipython3",
   "version": "3.9.12"
  }
 },
 "nbformat": 4,
 "nbformat_minor": 5
}
